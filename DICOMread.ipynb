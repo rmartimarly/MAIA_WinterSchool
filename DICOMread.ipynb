{
  "nbformat": 4,
  "nbformat_minor": 0,
  "metadata": {
    "colab": {
      "name": "DICOMread",
      "provenance": [],
      "collapsed_sections": [],
      "authorship_tag": "ABX9TyO4+odKeMzoWKWI+5/N3/fG",
      "include_colab_link": true
    },
    "kernelspec": {
      "name": "python3",
      "display_name": "Python 3"
    },
    "language_info": {
      "name": "python"
    }
  },
  "cells": [
    {
      "cell_type": "markdown",
      "metadata": {
        "id": "view-in-github",
        "colab_type": "text"
      },
      "source": [
        "<a href=\"https://colab.research.google.com/github/rmartimarly/MAIA_WinterSchool/blob/main/DICOMread.ipynb\" target=\"_parent\"><img src=\"https://colab.research.google.com/assets/colab-badge.svg\" alt=\"Open In Colab\"/></a>"
      ]
    },
    {
      "cell_type": "markdown",
      "source": [
        "# Simple DICOM Read and histogram plot\n",
        "\n",
        "Reading DICOM images and tags.\n",
        "\n",
        "robert.marti@udg.edu\n",
        "\n",
        "MAIA Winter School 2022. \n"
      ],
      "metadata": {
        "id": "Ylak4vPKeFWV"
      }
    },
    {
      "cell_type": "code",
      "source": [
        "\n",
        "!pip install researchpy\n",
        "!pip install SimpleITK\n",
        "\n",
        "\n",
        "import matplotlib.pyplot as plt\n",
        "import numpy as np\n",
        "import seaborn as sns\n",
        "import pandas as pd\n",
        "import glob\n",
        "import scipy.stats as stats\n",
        "import researchpy\n",
        "import os\n",
        "\n",
        "%matplotlib inline\n",
        "import SimpleITK as sitk"
      ],
      "metadata": {
        "colab": {
          "base_uri": "https://localhost:8080/"
        },
        "id": "5qvWLbjSeWHT",
        "outputId": "7166a144-286a-4087-c7b1-155068ab1784"
      },
      "execution_count": 9,
      "outputs": [
        {
          "output_type": "stream",
          "name": "stdout",
          "text": [
            "Requirement already satisfied: researchpy in /usr/local/lib/python3.7/dist-packages (0.3.2)\n",
            "Requirement already satisfied: numpy in /usr/local/lib/python3.7/dist-packages (from researchpy) (1.19.5)\n",
            "Requirement already satisfied: statsmodels in /usr/local/lib/python3.7/dist-packages (from researchpy) (0.10.2)\n",
            "Requirement already satisfied: pandas in /usr/local/lib/python3.7/dist-packages (from researchpy) (1.3.5)\n",
            "Requirement already satisfied: scipy in /usr/local/lib/python3.7/dist-packages (from researchpy) (1.4.1)\n",
            "Requirement already satisfied: patsy in /usr/local/lib/python3.7/dist-packages (from researchpy) (0.5.2)\n",
            "Requirement already satisfied: python-dateutil>=2.7.3 in /usr/local/lib/python3.7/dist-packages (from pandas->researchpy) (2.8.2)\n",
            "Requirement already satisfied: pytz>=2017.3 in /usr/local/lib/python3.7/dist-packages (from pandas->researchpy) (2018.9)\n",
            "Requirement already satisfied: six>=1.5 in /usr/local/lib/python3.7/dist-packages (from python-dateutil>=2.7.3->pandas->researchpy) (1.15.0)\n",
            "Requirement already satisfied: SimpleITK in /usr/local/lib/python3.7/dist-packages (2.1.1)\n"
          ]
        }
      ]
    },
    {
      "cell_type": "code",
      "source": [
        ""
      ],
      "metadata": {
        "id": "kcqdByEPfAfb"
      },
      "execution_count": null,
      "outputs": []
    },
    {
      "cell_type": "code",
      "source": [
        ""
      ],
      "metadata": {
        "id": "Y_vxg5UifgiH"
      },
      "execution_count": null,
      "outputs": []
    },
    {
      "cell_type": "markdown",
      "source": [
        "Connect to google drive where you data is. "
      ],
      "metadata": {
        "id": "Z0cgeiJVfg6m"
      }
    },
    {
      "cell_type": "code",
      "source": [
        "# let's load our google drive\n",
        "from google.colab import drive\n",
        "\n",
        "# This will prompt for authorization.\n",
        "drive.mount('/content/drive')\n",
        "# Define the root data directory\n",
        "DATA_DIR = \"/content/drive/MyDrive/kaggle/\"\n",
        "\n",
        "!ls $DATA_DIR"
      ],
      "metadata": {
        "colab": {
          "base_uri": "https://localhost:8080/"
        },
        "id": "qQTSsspDffxD",
        "outputId": "b71ef119-fd0b-4516-adf9-807559f6012e"
      },
      "execution_count": 5,
      "outputs": [
        {
          "output_type": "stream",
          "name": "stdout",
          "text": [
            "Drive already mounted at /content/drive; to attempt to forcibly remount, call drive.mount(\"/content/drive\", force_remount=True).\n",
            " Copy_of_eda_analysis.ipynb     test.zip\n",
            " image-061.mhd\t\t        train\n",
            " image-061.raw\t\t        train.csv\n",
            " labels-061.mhd\t\t       'train_image_level - Copy.csv'\n",
            " labels-061.raw\t\t        train_study_level.csv\n",
            " MAMMOGRAPHY_PRESENTATION.dcm   train.zip.001\n",
            " sample_submission.csv\t        train.zip.002\n",
            " test\t\t\t        train.zip.003\n"
          ]
        }
      ]
    },
    {
      "cell_type": "markdown",
      "source": [
        "Enter filename load"
      ],
      "metadata": {
        "id": "wmw26luqfA8W"
      }
    },
    {
      "cell_type": "code",
      "source": [
        "image_file = 'MAMMOGRAPHY_PRESENTATION.dcm'\n",
        "image_fn = os.path.join(DATA_DIR, image_file)\n"
      ],
      "metadata": {
        "id": "szt88SrDfIOo"
      },
      "execution_count": 22,
      "outputs": []
    },
    {
      "cell_type": "code",
      "source": [
        "df = pd.DataFrame(columns=['Median','Mean', 'Max','Min','Variance','Sum','Count','Volume'])\n",
        "\n",
        "label_stats = sitk.LabelStatisticsImageFilter()\n",
        "label_shape = sitk.LabelShapeStatisticsImageFilter()\n",
        "\n",
        "image= sitk.ReadImage(image_fn)\n",
        "i_sp = image.GetSpacing()\n",
        "\n",
        "label_stats.Execute(image, image> 0)\n",
        "st_median = label_stats.GetMedian(1)\n",
        "st_mean = label_stats.GetMean(1)\n",
        "st_max = label_stats.GetMaximum(1)\n",
        "st_min = label_stats.GetMinimum(1)\n",
        "st_var = label_stats.GetVariance(1)\n",
        "st_sum = label_stats.GetSum(1)\n",
        "st_count = label_stats.GetCount(1)\n",
        "label_shape.Execute(image>0)\n",
        "st_vol = label_shape.GetPhysicalSize(1)\n",
        "#print(st_median, st_mean, st_max, st_min, st_var, st_sum,st_count,st_vol)\n",
        "df.loc[len(df), :] = [st_median, st_mean, st_max, st_min, st_var, st_sum,st_count, st_vol]\n",
        "print(df)\n"
      ],
      "metadata": {
        "id": "FFbGTAwgfqhR",
        "colab": {
          "base_uri": "https://localhost:8080/"
        },
        "outputId": "986efcda-e4c9-4e83-e951-88f0d5c7e302"
      },
      "execution_count": 30,
      "outputs": [
        {
          "output_type": "stream",
          "name": "stdout",
          "text": [
            "        Median         Mean     Max  ...           Sum    Count      Volume\n",
            "0  1287.685547  1262.258829  4095.0  ...  5166396356.0  4092977  20055.5873\n",
            "\n",
            "[1 rows x 8 columns]\n"
          ]
        }
      ]
    },
    {
      "cell_type": "markdown",
      "source": [
        "Obtain dicom tags"
      ],
      "metadata": {
        "id": "FfGEB4dscYVi"
      }
    },
    {
      "cell_type": "code",
      "source": [
        ""
      ],
      "metadata": {
        "id": "P5DTmKW0cbb2"
      },
      "execution_count": null,
      "outputs": []
    },
    {
      "cell_type": "code",
      "source": [
        "a4_dims = (11.7, 8.27)\n",
        "vertical_offset =0\n",
        "colors= (\"blue\", \"orange\", \"green\")\n",
        "nf = 1 # number of files to plot\n",
        "ind = 0 # index\n",
        "plt.figure(figsize=(20, 6))\n",
        "f, ax = plt.subplots(nf+1, figsize=a4_dims, sharex=True, \n",
        "                     gridspec_kw={\"height_ratios\": (.1, .70)})\n",
        "df_nda =pd.DataFrame(columns=['count','mean','std','min','25%','50%','75%','max'])\n",
        "\n",
        "nda = sitk.GetArrayViewFromImage(image)\n",
        "nda_nz = nda[nda!=0].flatten()\n",
        "df_aux = pd.DataFrame(data=nda_nz)\n",
        "df_aux = df_aux.describe().transpose()\n",
        "print(df_aux)\n",
        "df_nda.loc[len(df_nda), :] = df_aux.loc[0]\n",
        "bp = sns.boxplot(nda_nz, ax = ax[ind], color = colors[ind])\n",
        "ax[ind].set(xlabel=image_file)\n",
        "bp.text(st_median + vertical_offset,0,int(st_median), \n",
        "        horizontalalignment='center',size='x-small',color='w',weight='semibold')\n",
        "sns.distplot(nda_nz, ax=ax[nf], label = image_file )\n",
        "sns.despine(ax=ax[ind], left=True)\n",
        "ax[ind].set(yticks=[])\n",
        "\n"
      ],
      "metadata": {
        "colab": {
          "base_uri": "https://localhost:8080/",
          "height": 656
        },
        "id": "xgrKVO5yKW_h",
        "outputId": "7298360e-2baa-4d68-a29c-83c1e2d93cf8"
      },
      "execution_count": 31,
      "outputs": [
        {
          "output_type": "stream",
          "name": "stdout",
          "text": [
            "       count         mean        std  min    25%     50%     75%     max\n",
            "0  4092977.0  1262.258829  630.16628  1.0  749.0  1288.0  1677.0  4095.0\n"
          ]
        },
        {
          "output_type": "stream",
          "name": "stderr",
          "text": [
            "/usr/local/lib/python3.7/dist-packages/seaborn/_decorators.py:43: FutureWarning: Pass the following variable as a keyword arg: x. From version 0.12, the only valid positional argument will be `data`, and passing other arguments without an explicit keyword will result in an error or misinterpretation.\n",
            "  FutureWarning\n",
            "/usr/local/lib/python3.7/dist-packages/seaborn/distributions.py:2619: FutureWarning: `distplot` is a deprecated function and will be removed in a future version. Please adapt your code to use either `displot` (a figure-level function with similar flexibility) or `histplot` (an axes-level function for histograms).\n",
            "  warnings.warn(msg, FutureWarning)\n"
          ]
        },
        {
          "output_type": "execute_result",
          "data": {
            "text/plain": [
              "[[]]"
            ]
          },
          "metadata": {},
          "execution_count": 31
        },
        {
          "output_type": "display_data",
          "data": {
            "text/plain": [
              "<Figure size 1440x432 with 0 Axes>"
            ]
          },
          "metadata": {}
        },
        {
          "output_type": "display_data",
          "data": {
            "image/png": "[encoded data removed]",
            "text/plain": [
              "<Figure size 842.4x595.44 with 2 Axes>"
            ]
          },
          "metadata": {
            "needs_background": "light"
          }
        }
      ]
    }
  ]
}