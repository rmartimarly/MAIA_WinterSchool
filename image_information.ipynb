{
  "cells": [
    {
      "cell_type": "markdown",
      "metadata": {
        "id": "view-in-github",
        "colab_type": "text"
      },
      "source": [
        "<a href=\"https://colab.research.google.com/github/rmartimarly/MAIA_WinterSchool/blob/main/image_information.ipynb\" target=\"_parent\"><img src=\"https://colab.research.google.com/assets/colab-badge.svg\" alt=\"Open In Colab\"/></a>"
      ]
    },
    {
      "cell_type": "markdown",
      "metadata": {
        "id": "lrCoyDUwqIg0"
      },
      "source": [
        "# SimpleITK Image Basics \n",
        "\n",
        "Adapted from \n",
        "[Simple ITK Notebooks](https://github.com/InsightSoftwareConsortium/SimpleITK-Notebooks/)\n",
        "\n",
        "This document will give a brief orientation to the SimpleITK Image class.\n",
        "\n",
        "First we import the SimpleITK Python module. By convention our module is imported into the shorter and more Pythonic \"sitk\" local name.\n"
      ]
    },
    {
      "cell_type": "code",
      "execution_count": 1,
      "metadata": {
        "id": "A2QUD0fFqIg4",
        "outputId": "5c4ccaf1-79e8-4664-bd42-9c13738b9067",
        "colab": {
          "base_uri": "https://localhost:8080/"
        }
      },
      "outputs": [
        {
          "output_type": "stream",
          "name": "stdout",
          "text": [
            "Collecting SimpleITK\n",
            "  Downloading SimpleITK-2.1.1-cp37-cp37m-manylinux_2_12_x86_64.manylinux2010_x86_64.whl (48.4 MB)\n",
            "\u001b[K     |████████████████████████████████| 48.4 MB 1.6 MB/s \n",
            "\u001b[?25hInstalling collected packages: SimpleITK\n",
            "Successfully installed SimpleITK-2.1.1\n"
          ]
        }
      ],
      "source": [
        "%matplotlib inline\n",
        "!pip install SimpleITK\n",
        "\n",
        "import matplotlib.pyplot as plt\n",
        "import SimpleITK as sitk"
      ]
    },
    {
      "cell_type": "markdown",
      "metadata": {
        "id": "giu7m7WHqIg5"
      },
      "source": [
        "## Image Construction\n",
        "\n",
        "There are a variety of ways to create an image. All images' initial value is well defined as zero."
      ]
    },
    {
      "cell_type": "code",
      "execution_count": 3,
      "metadata": {
        "id": "0SrgZTK7qIg5"
      },
      "outputs": [],
      "source": [
        "image = sitk.Image(256, 128, 64, sitk.sitkInt16)\n",
        "image_2D = sitk.Image(64, 64, sitk.sitkFloat32)\n",
        "image_2D = sitk.Image([32, 32], sitk.sitkUInt32)\n",
        "image_RGB = sitk.Image([128, 128], sitk.sitkVectorUInt8, 3)"
      ]
    },
    {
      "cell_type": "markdown",
      "metadata": {
        "id": "7hk1sKLZqIg6"
      },
      "source": [
        "### Pixel Types\n",
        "\n",
        "The pixel type is represented as an enumerated type. The following is a table of the enumerated list.\n",
        "\n",
        "<table>\n",
        "  <tr><td>sitkUInt8</td><td>Unsigned 8 bit integer</td></tr>\n",
        "  <tr><td>sitkInt8</td><td>Signed 8 bit integer</td></tr>\n",
        "  <tr><td>sitkUInt16</td><td>Unsigned 16 bit integer</td></tr>\n",
        "  <tr><td>sitkInt16</td><td>Signed 16 bit integer</td></tr>\n",
        "  <tr><td>sitkUInt32</td><td>Unsigned 32 bit integer</td></tr>\n",
        "  <tr><td>sitkInt32</td><td>Signed 32 bit integer</td></tr>\n",
        "  <tr><td>sitkUInt64</td><td>Unsigned 64 bit integer</td></tr>\n",
        "  <tr><td>sitkInt64</td><td>Signed 64 bit integer</td></tr>\n",
        "  <tr><td>sitkFloat32</td><td>32 bit float</td></tr>\n",
        "  <tr><td>sitkFloat64</td><td>64 bit float</td></tr>\n",
        "  <tr><td>sitkComplexFloat32</td><td>complex number of 32 bit float</td></tr>\n",
        "  <tr><td>sitkComplexFloat64</td><td>complex number of 64 bit float</td></tr>\n",
        "  <tr><td>sitkVectorUInt8</td><td>Multi-component of unsigned 8 bit integer</td></tr>\n",
        "  <tr><td>sitkVectorInt8</td><td>Multi-component of signed 8 bit integer</td></tr>\n",
        "  <tr><td>sitkVectorUInt16</td><td>Multi-component of unsigned 16 bit integer</td></tr>\n",
        "  <tr><td>sitkVectorInt16</td><td>Multi-component of signed 16 bit integer</td></tr>\n",
        "  <tr><td>sitkVectorUInt32</td><td>Multi-component of unsigned 32 bit integer</td></tr>\n",
        "  <tr><td>sitkVectorInt32</td><td>Multi-component of signed 32 bit integer</td></tr>\n",
        "  <tr><td>sitkVectorUInt64</td><td>Multi-component of unsigned 64 bit integer</td></tr>\n",
        "  <tr><td>sitkVectorInt64</td><td>Multi-component of signed 64 bit integer</td></tr>\n",
        "  <tr><td>sitkVectorFloat32</td><td>Multi-component of 32 bit float</td></tr>\n",
        "  <tr><td>sitkVectorFloat64</td><td>Multi-component of 64 bit float</td></tr>\n",
        "  <tr><td>sitkLabelUInt8</td><td>RLE label of unsigned 8 bit integers</td></tr>\n",
        "  <tr><td>sitkLabelUInt16</td><td>RLE label of unsigned 16 bit integers</td></tr>\n",
        "  <tr><td>sitkLabelUInt32</td><td>RLE label of unsigned 32 bit integers</td></tr>\n",
        "  <tr><td>sitkLabelUInt64</td><td>RLE label of unsigned 64 bit integers</td></tr>\n",
        "</table>\n",
        "\n",
        "There is also `sitkUnknown`, which is used for undefined or erroneous pixel ID's. It has a value of -1.\n",
        "\n",
        "The 64-bit integer types are not available on all distributions. When not available the value is `sitkUnknown`.\n"
      ]
    },
    {
      "cell_type": "markdown",
      "metadata": {
        "id": "VxdJB3MWqIg7"
      },
      "source": [
        "### More Information about the Image class be obtained in the Docstring\n",
        "\n",
        "\n",
        "SimpleITK classes and functions have the Docstrings derived from the C++ definitions and the Doxygen documentation. "
      ]
    },
    {
      "cell_type": "code",
      "execution_count": null,
      "metadata": {
        "id": "UST31wejqIg7",
        "outputId": "e54bf4ce-600d-459f-9048-d6aab11192a1",
        "colab": {
          "base_uri": "https://localhost:8080/"
        }
      },
      "outputs": [
        {
          "output_type": "stream",
          "name": "stdout",
          "text": [
            "Help on Image in module SimpleITK.SimpleITK object:\n",
            "\n",
            "class Image(builtins.object)\n",
            " |  Image(*args)\n",
            " |  \n",
            " |  The Image class for SimpleITK.\n",
            " |  \n",
            " |  \n",
            " |  This Image class can represent 2D, 3D, and 4D images. The pixel types may be a\n",
            " |  scalar, a multi-component vector or a run-length-encoded (RLE)\n",
            " |  \"label\". The dimension, pixel type and size is specified at\n",
            " |  construction.\n",
            " |  \n",
            " |  A fundamental concept of ITK images is that they occupy physical space\n",
            " |  where the image is defined by an origin, spacing, and direction cosine\n",
            " |  matrix. The attributes are taken into consideration when doing most\n",
            " |  operations on an image. A meta-data dictionary is also associated with\n",
            " |  the image, which may contain additional fields from reading but these\n",
            " |  attributes are not propagated by image filters.\n",
            " |  \n",
            " |  The SimpleITK Image provides a single facade interface to several ITK image types.\n",
            " |  Internally, the SimpleITK Image maintains a pointer to the ITK image class, and performs reference\n",
            " |  counting and lazy copying. This means that deep copying of an image\n",
            " |  including it's buffer is delayed until the image is modified. This\n",
            " |  removes the need to use pointers to SimpleITK Image class, as copying and returning by value do not unnecessarily\n",
            " |  duplicate the data.\n",
            " |  \n",
            " |  /sa itk::Image itk::VectorImage itk::LabelMap itk::ImageBase\n",
            " |  \n",
            " |  C++ includes: sitkImage.h\n",
            " |  \n",
            " |  Methods defined here:\n",
            " |  \n",
            " |  CopyInformation(self, srcImage)\n",
            " |      CopyInformation(Image self, Image srcImage)\n",
            " |      \n",
            " |      \n",
            " |      Copy common meta-data from an image to this one.\n",
            " |      \n",
            " |      \n",
            " |      Copies the Origin, Spacing, and Direction from the source image to\n",
            " |      this image. The meta-data dictionary is not copied.\n",
            " |      \n",
            " |      It is required for the source Image's dimension and size to match, this image's attributes, otherwise an\n",
            " |      exception will be generated.\n",
            " |  \n",
            " |  EraseMetaData(self, key)\n",
            " |      EraseMetaData(Image self, std::string const & key) -> bool\n",
            " |      \n",
            " |      \n",
            " |      Remove an entry from the meta-data dictionary.\n",
            " |      \n",
            " |      \n",
            " |      Returns true, when the value exists in the dictionary and is removed,\n",
            " |      false otherwise.\n",
            " |  \n",
            " |  GetBufferAsDouble(self, *args)\n",
            " |      GetBufferAsDouble(Image self) -> double\n",
            " |      GetBufferAsDouble(Image self) -> double const *\n",
            " |  \n",
            " |  GetBufferAsFloat(self, *args)\n",
            " |      GetBufferAsFloat(Image self) -> float\n",
            " |      GetBufferAsFloat(Image self) -> float const *\n",
            " |  \n",
            " |  GetBufferAsInt16(self, *args)\n",
            " |      GetBufferAsInt16(Image self) -> int16_t\n",
            " |      GetBufferAsInt16(Image self) -> int16_t const *\n",
            " |  \n",
            " |  GetBufferAsInt32(self, *args)\n",
            " |      GetBufferAsInt32(Image self) -> int32_t\n",
            " |      GetBufferAsInt32(Image self) -> int32_t const *\n",
            " |  \n",
            " |  GetBufferAsInt64(self, *args)\n",
            " |      GetBufferAsInt64(Image self) -> int64_t\n",
            " |      GetBufferAsInt64(Image self) -> int64_t const *\n",
            " |  \n",
            " |  GetBufferAsInt8(self, *args)\n",
            " |      GetBufferAsInt8(Image self) -> int8_t\n",
            " |      GetBufferAsInt8(Image self) -> int8_t const *\n",
            " |  \n",
            " |  GetBufferAsUInt16(self, *args)\n",
            " |      GetBufferAsUInt16(Image self) -> uint16_t\n",
            " |      GetBufferAsUInt16(Image self) -> uint16_t const *\n",
            " |  \n",
            " |  GetBufferAsUInt32(self, *args)\n",
            " |      GetBufferAsUInt32(Image self) -> uint32_t\n",
            " |      GetBufferAsUInt32(Image self) -> uint32_t const *\n",
            " |  \n",
            " |  GetBufferAsUInt64(self, *args)\n",
            " |      GetBufferAsUInt64(Image self) -> uint64_t\n",
            " |      GetBufferAsUInt64(Image self) -> uint64_t const *\n",
            " |  \n",
            " |  GetBufferAsUInt8(self, *args)\n",
            " |      GetBufferAsUInt8(Image self) -> uint8_t\n",
            " |      GetBufferAsUInt8(Image self) -> uint8_t const *\n",
            " |  \n",
            " |  GetDepth(self)\n",
            " |      GetDepth(Image self) -> unsigned int\n",
            " |      \n",
            " |      \n",
            " |      Get the number of pixels the Image is in the third dimension or 0 if the Image is only 2D\n",
            " |  \n",
            " |  GetDimension(self)\n",
            " |      GetDimension(Image self) -> unsigned int\n",
            " |      \n",
            " |      \n",
            " |      Get the number of physical dimensions.\n",
            " |      \n",
            " |      Only the spatial dimensions are considered here. These are the\n",
            " |      dimensions the origin, spacing and direction cosine matrix are\n",
            " |      applicable to. This does not include the pixels' vector index as a\n",
            " |      dimension.\n",
            " |  \n",
            " |  GetDirection(self)\n",
            " |      GetDirection(Image self) -> VectorDouble\n",
            " |  \n",
            " |  GetHeight(self)\n",
            " |      GetHeight(Image self) -> unsigned int\n",
            " |      \n",
            " |      \n",
            " |      Get the number of pixels the Image is in the second dimension\n",
            " |  \n",
            " |  GetITKBase(self, *args)\n",
            " |      GetITKBase(Image self) -> itk::DataObject\n",
            " |      GetITKBase(Image self) -> itk::DataObject const *\n",
            " |  \n",
            " |  GetMetaData(self, key)\n",
            " |      GetMetaData(Image self, std::string const & key) -> std::string\n",
            " |      \n",
            " |      \n",
            " |      Get the value of a meta-data dictionary entry as a string.\n",
            " |      \n",
            " |      \n",
            " |      If the key is not in the dictionary then an exception is thrown.\n",
            " |      \n",
            " |      string types in the dictionary are returned as their native strings.\n",
            " |      Other types are printed to string before returning.\n",
            " |  \n",
            " |  GetMetaDataKeys(self)\n",
            " |      GetMetaDataKeys(Image self) -> VectorString\n",
            " |      \n",
            " |      \n",
            " |      get a vector of keys in from the meta-data dictionary\n",
            " |      \n",
            " |      \n",
            " |      Returns a vector of keys to the key/value entries in the image's meta-\n",
            " |      data dictionary. Iterate through with these keys to get the values.\n",
            " |  \n",
            " |  GetNumberOfComponentsPerPixel(self)\n",
            " |      GetNumberOfComponentsPerPixel(Image self) -> unsigned int\n",
            " |      \n",
            " |      \n",
            " |      Get the number of components for each pixel.\n",
            " |      \n",
            " |      \n",
            " |      For scalar images this methods returns 1. For vector images the number\n",
            " |      of components for each pixel is returned.\n",
            " |  \n",
            " |  GetNumberOfPixels(self)\n",
            " |      GetNumberOfPixels(Image self) -> uint64_t\n",
            " |      \n",
            " |      \n",
            " |      Get the number of pixels in the image.\n",
            " |      \n",
            " |      \n",
            " |      To Calculate the total number of values stored continuously for the\n",
            " |      image's buffer, the NumberOfPixels should be multiplied by\n",
            " |      NumberOfComponentsPerPixel in order to account for multiple component\n",
            " |      images.\n",
            " |  \n",
            " |  GetOrigin(self)\n",
            " |      GetOrigin(Image self) -> VectorDouble\n",
            " |  \n",
            " |  GetPixel(self, *idx)\n",
            " |      Returns the value of a pixel.\n",
            " |      \n",
            " |      This method takes 2 parameters in 2D: the x and y index,\n",
            " |      and 3 parameters in 3D: the x, y and z index.\n",
            " |  \n",
            " |  GetPixelID(self)\n",
            " |      GetPixelID(Image self) -> itk::simple::PixelIDValueEnum\n",
            " |      \n",
            " |      \n",
            " |      Get the pixel type\n",
            " |      \n",
            " |      The pixel type is set at construction type and can not be manually\n",
            " |      changed, unless by assignment. The value may be -1 or \"Unknown\".\n",
            " |  \n",
            " |  GetPixelIDTypeAsString(self)\n",
            " |      GetPixelIDTypeAsString(Image self) -> std::string\n",
            " |      \n",
            " |      \n",
            " |      Return the pixel type as a human readable string value.\n",
            " |  \n",
            " |  GetPixelIDValue(self)\n",
            " |      GetPixelIDValue(Image self) -> itk::simple::PixelIDValueType\n",
            " |  \n",
            " |  GetSize(self)\n",
            " |      GetSize(Image self) -> VectorUInt32\n",
            " |      \n",
            " |      \n",
            " |      Get the number of pixels the Image is in each dimension as a std::vector. The size of the vector is\n",
            " |      equal to the number of dimensions for the image.\n",
            " |  \n",
            " |  GetSizeOfPixelComponent(self)\n",
            " |      GetSizeOfPixelComponent(Image self) -> unsigned int\n",
            " |  \n",
            " |  GetSpacing(self)\n",
            " |      GetSpacing(Image self) -> VectorDouble\n",
            " |  \n",
            " |  GetWidth(self)\n",
            " |      GetWidth(Image self) -> unsigned int\n",
            " |      \n",
            " |      \n",
            " |      Get the number of pixels the Image is in the first dimension\n",
            " |  \n",
            " |  HasMetaDataKey(self, key)\n",
            " |      HasMetaDataKey(Image self, std::string const & key) -> bool\n",
            " |      \n",
            " |      \n",
            " |      Query the meta-data dictionary for the existence of a key.\n",
            " |  \n",
            " |  IsUnique(self)\n",
            " |      IsUnique(Image self) -> bool\n",
            " |      \n",
            " |      \n",
            " |      Returns true if no other SimpleITK Image object refers to the same internal data structure.\n",
            " |  \n",
            " |  MakeUnique(self)\n",
            " |      MakeUnique(Image self)\n",
            " |      \n",
            " |      \n",
            " |      Performs actually coping if needed to make object unique.\n",
            " |      \n",
            " |      \n",
            " |      The Image class by default performs lazy coping and assignment. This method\n",
            " |      make sure that coping actually happens to the itk::Image pointed to is only pointed to by this object.\n",
            " |  \n",
            " |  SetDirection(self, direction)\n",
            " |      SetDirection(Image self, VectorDouble direction)\n",
            " |  \n",
            " |  SetMetaData(self, key, value)\n",
            " |      SetMetaData(Image self, std::string const & key, std::string const & value)\n",
            " |      \n",
            " |      \n",
            " |      Set an entry in the meta-data dictionary.\n",
            " |      \n",
            " |      \n",
            " |      Replaces or creates an entry in the image's meta-data dictionary.\n",
            " |  \n",
            " |  SetOrigin(self, origin)\n",
            " |      SetOrigin(Image self, VectorDouble origin)\n",
            " |  \n",
            " |  SetPixel(self, *args)\n",
            " |      Sets the value of a pixel.\n",
            " |      \n",
            " |      This method takes 3 parameters in 2D: the x and y index then the value,\n",
            " |      and 4 parameters in 3D: the x, y and z index then the value.\n",
            " |  \n",
            " |  SetPixelAsComplexFloat64(self, idx, v)\n",
            " |      SetPixelAsComplexFloat64(Image self, VectorUInt32 idx, std::complex< double > const v)\n",
            " |  \n",
            " |  SetSpacing(self, spacing)\n",
            " |      SetSpacing(Image self, VectorDouble spacing)\n",
            " |  \n",
            " |  TransformContinuousIndexToPhysicalPoint(self, index)\n",
            " |      TransformContinuousIndexToPhysicalPoint(Image self, VectorDouble index) -> VectorDouble\n",
            " |      \n",
            " |      \n",
            " |      Transform continuous index to physical point\n",
            " |  \n",
            " |  TransformIndexToPhysicalPoint(self, index)\n",
            " |      TransformIndexToPhysicalPoint(Image self, VectorInt64 index) -> VectorDouble\n",
            " |      \n",
            " |      \n",
            " |      Transform index to physical point\n",
            " |  \n",
            " |  TransformPhysicalPointToContinuousIndex(self, point)\n",
            " |      TransformPhysicalPointToContinuousIndex(Image self, VectorDouble point) -> VectorDouble\n",
            " |      \n",
            " |      \n",
            " |      Transform physical point to continuous index\n",
            " |  \n",
            " |  TransformPhysicalPointToIndex(self, point)\n",
            " |      TransformPhysicalPointToIndex(Image self, VectorDouble point) -> VectorInt64\n",
            " |      \n",
            " |      \n",
            " |      Transform physical point to index\n",
            " |  \n",
            " |  __GetPixelAsComplexFloat32__(self, idx)\n",
            " |      __GetPixelAsComplexFloat32__(Image self, VectorUInt32 idx) -> std::complex< float >\n",
            " |  \n",
            " |  __GetPixelAsComplexFloat64__(self, idx)\n",
            " |      __GetPixelAsComplexFloat64__(Image self, VectorUInt32 idx) -> std::complex< double >\n",
            " |  \n",
            " |  __GetPixelAsDouble__(self, idx)\n",
            " |      __GetPixelAsDouble__(Image self, VectorUInt32 idx) -> double\n",
            " |  \n",
            " |  __GetPixelAsFloat__(self, idx)\n",
            " |      __GetPixelAsFloat__(Image self, VectorUInt32 idx) -> float\n",
            " |  \n",
            " |  __GetPixelAsInt16__(self, idx)\n",
            " |      __GetPixelAsInt16__(Image self, VectorUInt32 idx) -> int16_t\n",
            " |  \n",
            " |  __GetPixelAsInt32__(self, idx)\n",
            " |      __GetPixelAsInt32__(Image self, VectorUInt32 idx) -> int32_t\n",
            " |  \n",
            " |  __GetPixelAsInt64__(self, idx)\n",
            " |      __GetPixelAsInt64__(Image self, VectorUInt32 idx) -> int64_t\n",
            " |  \n",
            " |  __GetPixelAsInt8__(self, idx)\n",
            " |      __GetPixelAsInt8__(Image self, VectorUInt32 idx) -> int8_t\n",
            " |  \n",
            " |  __GetPixelAsUInt16__(self, idx)\n",
            " |      __GetPixelAsUInt16__(Image self, VectorUInt32 idx) -> uint16_t\n",
            " |  \n",
            " |  __GetPixelAsUInt32__(self, idx)\n",
            " |      __GetPixelAsUInt32__(Image self, VectorUInt32 idx) -> uint32_t\n",
            " |  \n",
            " |  __GetPixelAsUInt64__(self, idx)\n",
            " |      __GetPixelAsUInt64__(Image self, VectorUInt32 idx) -> uint64_t\n",
            " |  \n",
            " |  __GetPixelAsUInt8__(self, idx)\n",
            " |      __GetPixelAsUInt8__(Image self, VectorUInt32 idx) -> uint8_t\n",
            " |  \n",
            " |  __GetPixelAsVectorFloat32__(self, idx)\n",
            " |      __GetPixelAsVectorFloat32__(Image self, VectorUInt32 idx) -> VectorFloat\n",
            " |  \n",
            " |  __GetPixelAsVectorFloat64__(self, idx)\n",
            " |      __GetPixelAsVectorFloat64__(Image self, VectorUInt32 idx) -> VectorDouble\n",
            " |  \n",
            " |  __GetPixelAsVectorInt16__(self, idx)\n",
            " |      __GetPixelAsVectorInt16__(Image self, VectorUInt32 idx) -> VectorInt16\n",
            " |  \n",
            " |  __GetPixelAsVectorInt32__(self, idx)\n",
            " |      __GetPixelAsVectorInt32__(Image self, VectorUInt32 idx) -> VectorInt32\n",
            " |  \n",
            " |  __GetPixelAsVectorInt64__(self, idx)\n",
            " |      __GetPixelAsVectorInt64__(Image self, VectorUInt32 idx) -> VectorInt64\n",
            " |  \n",
            " |  __GetPixelAsVectorInt8__(self, idx)\n",
            " |      __GetPixelAsVectorInt8__(Image self, VectorUInt32 idx) -> VectorInt8\n",
            " |  \n",
            " |  __GetPixelAsVectorUInt16__(self, idx)\n",
            " |      __GetPixelAsVectorUInt16__(Image self, VectorUInt32 idx) -> VectorUInt16\n",
            " |  \n",
            " |  __GetPixelAsVectorUInt32__(self, idx)\n",
            " |      __GetPixelAsVectorUInt32__(Image self, VectorUInt32 idx) -> VectorUInt32\n",
            " |  \n",
            " |  __GetPixelAsVectorUInt64__(self, idx)\n",
            " |      __GetPixelAsVectorUInt64__(Image self, VectorUInt32 idx) -> VectorUInt64\n",
            " |  \n",
            " |  __GetPixelAsVectorUInt8__(self, idx)\n",
            " |      __GetPixelAsVectorUInt8__(Image self, VectorUInt32 idx) -> VectorUInt8\n",
            " |  \n",
            " |  __SetPixelAsComplexFloat32__(self, idx, v)\n",
            " |      __SetPixelAsComplexFloat32__(Image self, VectorUInt32 idx, std::complex< float > const v)\n",
            " |  \n",
            " |  __SetPixelAsDouble__(self, idx, v)\n",
            " |      __SetPixelAsDouble__(Image self, VectorUInt32 idx, double v)\n",
            " |  \n",
            " |  __SetPixelAsFloat__(self, idx, v)\n",
            " |      __SetPixelAsFloat__(Image self, VectorUInt32 idx, float v)\n",
            " |  \n",
            " |  __SetPixelAsInt16__(self, idx, v)\n",
            " |      __SetPixelAsInt16__(Image self, VectorUInt32 idx, int16_t v)\n",
            " |  \n",
            " |  __SetPixelAsInt32__(self, idx, v)\n",
            " |      __SetPixelAsInt32__(Image self, VectorUInt32 idx, int32_t v)\n",
            " |  \n",
            " |  __SetPixelAsInt64__(self, idx, v)\n",
            " |      __SetPixelAsInt64__(Image self, VectorUInt32 idx, int64_t v)\n",
            " |  \n",
            " |  __SetPixelAsInt8__(self, idx, v)\n",
            " |      __SetPixelAsInt8__(Image self, VectorUInt32 idx, int8_t v)\n",
            " |  \n",
            " |  __SetPixelAsUInt16__(self, idx, v)\n",
            " |      __SetPixelAsUInt16__(Image self, VectorUInt32 idx, uint16_t v)\n",
            " |  \n",
            " |  __SetPixelAsUInt32__(self, idx, v)\n",
            " |      __SetPixelAsUInt32__(Image self, VectorUInt32 idx, uint32_t v)\n",
            " |  \n",
            " |  __SetPixelAsUInt64__(self, idx, v)\n",
            " |      __SetPixelAsUInt64__(Image self, VectorUInt32 idx, uint64_t v)\n",
            " |  \n",
            " |  __SetPixelAsUInt8__(self, idx, v)\n",
            " |      __SetPixelAsUInt8__(Image self, VectorUInt32 idx, uint8_t v)\n",
            " |  \n",
            " |  __SetPixelAsVectorFloat32__(self, idx, v)\n",
            " |      __SetPixelAsVectorFloat32__(Image self, VectorUInt32 idx, VectorFloat v)\n",
            " |  \n",
            " |  __SetPixelAsVectorFloat64__(self, idx, v)\n",
            " |      __SetPixelAsVectorFloat64__(Image self, VectorUInt32 idx, VectorDouble v)\n",
            " |  \n",
            " |  __SetPixelAsVectorInt16__(self, idx, v)\n",
            " |      __SetPixelAsVectorInt16__(Image self, VectorUInt32 idx, VectorInt16 v)\n",
            " |  \n",
            " |  __SetPixelAsVectorInt32__(self, idx, v)\n",
            " |      __SetPixelAsVectorInt32__(Image self, VectorUInt32 idx, VectorInt32 v)\n",
            " |  \n",
            " |  __SetPixelAsVectorInt64__(self, idx, v)\n",
            " |      __SetPixelAsVectorInt64__(Image self, VectorUInt32 idx, VectorInt64 v)\n",
            " |  \n",
            " |  __SetPixelAsVectorInt8__(self, idx, v)\n",
            " |      __SetPixelAsVectorInt8__(Image self, VectorUInt32 idx, VectorInt8 v)\n",
            " |  \n",
            " |  __SetPixelAsVectorUInt16__(self, idx, v)\n",
            " |      __SetPixelAsVectorUInt16__(Image self, VectorUInt32 idx, VectorUInt16 v)\n",
            " |  \n",
            " |  __SetPixelAsVectorUInt32__(self, idx, v)\n",
            " |      __SetPixelAsVectorUInt32__(Image self, VectorUInt32 idx, VectorUInt32 v)\n",
            " |  \n",
            " |  __SetPixelAsVectorUInt64__(self, idx, v)\n",
            " |      __SetPixelAsVectorUInt64__(Image self, VectorUInt32 idx, VectorUInt64 v)\n",
            " |  \n",
            " |  __SetPixelAsVectorUInt8__(self, idx, v)\n",
            " |      __SetPixelAsVectorUInt8__(Image self, VectorUInt32 idx, VectorUInt8 v)\n",
            " |  \n",
            " |  __abs__(self)\n",
            " |  \n",
            " |  __add__(self, other)\n",
            " |  \n",
            " |  __and__(self, other)\n",
            " |  \n",
            " |  __contains__(self, key)\n",
            " |      Test if key is contained in the meta-data dictionary.\n",
            " |  \n",
            " |  __copy__(self)\n",
            " |      Create a SimpleITK shallow copy, where the internal image share is shared with copy on write implementation.\n",
            " |  \n",
            " |  __deepcopy__(self, memo)\n",
            " |      Create a new copy of the data and image class.\n",
            " |  \n",
            " |  __delitem__(self, key)\n",
            " |      Remove an item from the meta-data dictionary.\n",
            " |      \n",
            " |      It is an exception to delete the \"origin\", \"spacing\" and \"direction\" reserved keys.\n",
            " |      \n",
            " |      If the key does not exist in the dictionary no action or exception occours.\n",
            " |  \n",
            " |  __div__(self, other)\n",
            " |  \n",
            " |  __eq__(self, other)\n",
            " |      Return self==value.\n",
            " |  \n",
            " |  __floordiv__(self, other)\n",
            " |  \n",
            " |  __ge__(self, other)\n",
            " |      Return self>=value.\n",
            " |  \n",
            " |  __getitem__(self, idx)\n",
            " |      Get an pixel value, a sliced image, or a metadata item\n",
            " |      \n",
            " |      This operator implements basic indexing where idx is\n",
            " |      arguments or a squence of integers the same dimension as\n",
            " |      the image. The result will be a pixel value from that\n",
            " |      index.\n",
            " |      \n",
            " |      Multi-dimension extended slice based indexing is also\n",
            " |      implemented. The return is a copy of a new image. The\n",
            " |      standard sliced based indices are supported including\n",
            " |      negative indices, to indicate location relative to the\n",
            " |      end, along with negative step sized to indicate reversing\n",
            " |      of direction.\n",
            " |      \n",
            " |      If the length of idx is less than the number of dimension\n",
            " |      of the image it will be padded with the defaults slice\n",
            " |      \":\".\n",
            " |      \n",
            " |      When an index element is an integer, that dimension is\n",
            " |      collapsed extracting an image with reduced dimensionality.\n",
            " |      The minimum dimension of an image which can be extracted\n",
            " |      is 2D.\n",
            " |      \n",
            " |      If indexing with a string, then the metadata dictionary\n",
            " |      queried with the index as the key. If the metadata dictionary\n",
            " |      does not contain the key, a KeyError will occour.\n",
            " |  \n",
            " |  __gt__(self, other)\n",
            " |      Return self>value.\n",
            " |  \n",
            " |  __iadd__(self, *args)\n",
            " |      __iadd__(Image self, Image i) -> Image\n",
            " |      __iadd__(Image self, double c) -> Image\n",
            " |  \n",
            " |  __iand__(self, *args)\n",
            " |      __iand__(Image self, Image i) -> Image\n",
            " |      __iand__(Image self, int c) -> Image\n",
            " |  \n",
            " |  __ifloordiv__(self, *args)\n",
            " |      __ifloordiv__(Image self, Image i) -> Image\n",
            " |      __ifloordiv__(Image self, double c) -> Image\n",
            " |  \n",
            " |  __imod__(self, *args)\n",
            " |      __imod__(Image self, Image i) -> Image\n",
            " |      __imod__(Image self, int c) -> Image\n",
            " |  \n",
            " |  __imul__(self, *args)\n",
            " |      __imul__(Image self, Image i) -> Image\n",
            " |      __imul__(Image self, double c) -> Image\n",
            " |  \n",
            " |  __init__(self, *args)\n",
            " |      __init__(Image self) -> Image\n",
            " |      __init__(Image self, Image img) -> Image\n",
            " |      __init__(Image self, unsigned int width, unsigned int height, itk::simple::PixelIDValueEnum valueEnum) -> Image\n",
            " |      __init__(Image self, unsigned int width, unsigned int height, unsigned int depth, itk::simple::PixelIDValueEnum valueEnum) -> Image\n",
            " |      __init__(Image self, VectorUInt32 size, itk::simple::PixelIDValueEnum valueEnum, unsigned int numberOfComponents=0) -> Image\n",
            " |      \n",
            " |      \n",
            " |      Move constructor and assignment.\n",
            " |      \n",
            " |      \n",
            " |      \n",
            " |      \n",
            " |      Parameters:\n",
            " |      \n",
            " |      img:\n",
            " |      After the operation img is valid only for destructing and assignment;\n",
            " |      all other operations have undefined behavior.\n",
            " |  \n",
            " |  __invert__(self)\n",
            " |  \n",
            " |  __ior__(self, *args)\n",
            " |      __ior__(Image self, Image i) -> Image\n",
            " |      __ior__(Image self, int c) -> Image\n",
            " |  \n",
            " |  __ipow__(self, *args)\n",
            " |      __ipow__(Image self, Image i) -> Image\n",
            " |      __ipow__(Image self, double c) -> Image\n",
            " |  \n",
            " |  __isub__(self, *args)\n",
            " |      __isub__(Image self, Image i) -> Image\n",
            " |      __isub__(Image self, double c) -> Image\n",
            " |  \n",
            " |  __iter__(self)\n",
            " |  \n",
            " |  __itruediv__(self, *args)\n",
            " |      __itruediv__(Image self, Image i) -> Image\n",
            " |      __itruediv__(Image self, double c) -> Image\n",
            " |  \n",
            " |  __ixor__(self, *args)\n",
            " |      __ixor__(Image self, Image i) -> Image\n",
            " |      __ixor__(Image self, int c) -> Image\n",
            " |  \n",
            " |  __le__(self, other)\n",
            " |      Return self<=value.\n",
            " |  \n",
            " |  __len__(self)\n",
            " |  \n",
            " |  __lt__(self, other)\n",
            " |      Return self<value.\n",
            " |  \n",
            " |  __mod__(self, other)\n",
            " |  \n",
            " |  __mul__(self, other)\n",
            " |  \n",
            " |  __ne__(self, other)\n",
            " |      Return self!=value.\n",
            " |  \n",
            " |  __neg__(self)\n",
            " |  \n",
            " |  __or__(self, other)\n",
            " |  \n",
            " |  __pos__(self)\n",
            " |  \n",
            " |  __pow__(self, other)\n",
            " |  \n",
            " |  __radd__(self, other)\n",
            " |  \n",
            " |  __rand__(self, other)\n",
            " |  \n",
            " |  __rdiv__(self, other)\n",
            " |  \n",
            " |  __reduce_ex__(self, protocol)\n",
            " |      Helper for pickle.\n",
            " |  \n",
            " |  __repr__ = _swig_repr(self)\n",
            " |  \n",
            " |  __rfloordiv__(self, other)\n",
            " |  \n",
            " |  __rmul__(self, other)\n",
            " |  \n",
            " |  __ror__(self, other)\n",
            " |  \n",
            " |  __rpow__(self, other)\n",
            " |  \n",
            " |  __rsub__(self, other)\n",
            " |  \n",
            " |  __rtruediv__(self, other)\n",
            " |  \n",
            " |  __rxor__(self, other)\n",
            " |  \n",
            " |  __setitem__(self, idx, rvalue)\n",
            " |      Sets this image's pixel value(s) to rvalue.\n",
            " |      \n",
            " |      The dimension of idx must match that of the image.\n",
            " |      \n",
            " |      If all indices are integers then rvalue should be a pixel value\n",
            " |      ( scalar or sequence for vector pixels). The value is assigned to\n",
            " |      the pixel.\n",
            " |      \n",
            " |      If the indices are slices or integers then, the PasteImageFilter is\n",
            " |      used to assign values to this image. The rvalue can be an image\n",
            " |      or a scalar constant value. When rvalue is an image it must be of\n",
            " |      the same pixel type and equal or lesser dimension than self. The\n",
            " |      region defined by idx and rvalue's size must be compatible. The\n",
            " |      region defined by idx will collapse one sized idx dimensions when it\n",
            " |      does not match the rvalue image's size.\n",
            " |  \n",
            " |  __setstate__(self, args)\n",
            " |  \n",
            " |  __str__(self)\n",
            " |      __str__(Image self) -> std::string\n",
            " |  \n",
            " |  __sub__(self, other)\n",
            " |  \n",
            " |  __truediv__(self, other)\n",
            " |  \n",
            " |  __xor__(self, other)\n",
            " |  \n",
            " |  ----------------------------------------------------------------------\n",
            " |  Static methods defined here:\n",
            " |  \n",
            " |  __swig_destroy__ = delete_Image(...)\n",
            " |      delete_Image(Image self)\n",
            " |  \n",
            " |  ----------------------------------------------------------------------\n",
            " |  Data descriptors defined here:\n",
            " |  \n",
            " |  __dict__\n",
            " |      dictionary for instance variables (if defined)\n",
            " |  \n",
            " |  __weakref__\n",
            " |      list of weak references to the object (if defined)\n",
            " |  \n",
            " |  thisown\n",
            " |      The membership flag\n",
            " |  \n",
            " |  ----------------------------------------------------------------------\n",
            " |  Data and other attributes defined here:\n",
            " |  \n",
            " |  __hash__ = None\n",
            "\n"
          ]
        }
      ],
      "source": [
        "help(image)"
      ]
    },
    {
      "cell_type": "markdown",
      "metadata": {
        "id": "BH1oUor7qIg8"
      },
      "source": [
        "## Accessing Attributes\n",
        "\n",
        "If you are familiar with ITK, then these methods will follow your expectations:"
      ]
    },
    {
      "cell_type": "code",
      "execution_count": null,
      "metadata": {
        "id": "RJ0ZprbgqIg9",
        "outputId": "38c4a2ff-3d08-48ff-e43f-94795f53e40b",
        "colab": {
          "base_uri": "https://localhost:8080/"
        }
      },
      "outputs": [
        {
          "output_type": "stream",
          "name": "stdout",
          "text": [
            "(256, 128, 64)\n",
            "(0.0, 0.0, 0.0)\n",
            "(1.0, 1.0, 1.0)\n",
            "(1.0, 0.0, 0.0, 0.0, 1.0, 0.0, 0.0, 0.0, 1.0)\n",
            "1\n"
          ]
        }
      ],
      "source": [
        "print(image.GetSize())\n",
        "print(image.GetOrigin())\n",
        "print(image.GetSpacing())\n",
        "print(image.GetDirection())\n",
        "print(image.GetNumberOfComponentsPerPixel())"
      ]
    },
    {
      "cell_type": "markdown",
      "metadata": {
        "id": "OwqZVSJLqIg9"
      },
      "source": [
        "Note: The starting index of a SimpleITK Image is always 0. If the output of an ITK filter has non-zero starting index, then the index will be set to 0, and the origin adjusted accordingly.\n",
        "\n",
        "The size of the image's dimensions have explicit accessors:"
      ]
    },
    {
      "cell_type": "code",
      "execution_count": null,
      "metadata": {
        "id": "tjas5UWPqIg-",
        "outputId": "8bd35c5c-88af-405c-ca7a-59fe070264d1",
        "colab": {
          "base_uri": "https://localhost:8080/"
        }
      },
      "outputs": [
        {
          "output_type": "stream",
          "name": "stdout",
          "text": [
            "256\n",
            "128\n",
            "64\n"
          ]
        }
      ],
      "source": [
        "print(image.GetWidth())\n",
        "print(image.GetHeight())\n",
        "print(image.GetDepth())"
      ]
    },
    {
      "cell_type": "markdown",
      "metadata": {
        "id": "eLbXFjg3qIg-"
      },
      "source": [
        "Since the dimension  and pixel type of a SimpleITK image is determined at run-time accessors are needed. "
      ]
    },
    {
      "cell_type": "code",
      "execution_count": null,
      "metadata": {
        "id": "KxU8dkikqIg-",
        "outputId": "bb5b0463-63b9-460f-ebbd-3e870c696f5c",
        "colab": {
          "base_uri": "https://localhost:8080/"
        }
      },
      "outputs": [
        {
          "output_type": "stream",
          "name": "stdout",
          "text": [
            "3\n",
            "2\n",
            "16-bit signed integer\n"
          ]
        }
      ],
      "source": [
        "print(image.GetDimension())\n",
        "print(image.GetPixelIDValue())\n",
        "print(image.GetPixelIDTypeAsString())"
      ]
    },
    {
      "cell_type": "markdown",
      "metadata": {
        "id": "4orImU5jqIg_"
      },
      "source": [
        "What is the depth of a 2D image?"
      ]
    },
    {
      "cell_type": "code",
      "execution_count": null,
      "metadata": {
        "id": "MzZrstwgqIg_",
        "outputId": "b8e9fda8-a96b-46dc-f8b5-50acb37d03ab",
        "colab": {
          "base_uri": "https://localhost:8080/"
        }
      },
      "outputs": [
        {
          "output_type": "stream",
          "name": "stdout",
          "text": [
            "(32, 32)\n",
            "0\n"
          ]
        }
      ],
      "source": [
        "print(image_2D.GetSize())\n",
        "print(image_2D.GetDepth())"
      ]
    },
    {
      "cell_type": "markdown",
      "metadata": {
        "id": "pW5MmSC-qIg_"
      },
      "source": [
        "What is the dimension and size of a Vector image?"
      ]
    },
    {
      "cell_type": "code",
      "execution_count": null,
      "metadata": {
        "id": "CeYo60J_qIhA",
        "outputId": "db43dc51-345a-494e-e38a-e9df9b7c8624",
        "colab": {
          "base_uri": "https://localhost:8080/"
        }
      },
      "outputs": [
        {
          "output_type": "stream",
          "name": "stdout",
          "text": [
            "2\n",
            "(128, 128)\n"
          ]
        }
      ],
      "source": [
        "print(image_RGB.GetDimension())\n",
        "print(image_RGB.GetSize())"
      ]
    },
    {
      "cell_type": "code",
      "execution_count": null,
      "metadata": {
        "id": "u9-EpGc9qIhA",
        "outputId": "3e5bc3bd-5d53-43ab-f134-61b32dbc5d0e",
        "colab": {
          "base_uri": "https://localhost:8080/"
        }
      },
      "outputs": [
        {
          "output_type": "stream",
          "name": "stdout",
          "text": [
            "3\n"
          ]
        }
      ],
      "source": [
        "print(image_RGB.GetNumberOfComponentsPerPixel())"
      ]
    },
    {
      "cell_type": "markdown",
      "metadata": {
        "id": "WDLBenJHqIhA"
      },
      "source": [
        "For certain file types such as DICOM, additional information about the image is contained in the meta-data dictionary."
      ]
    },
    {
      "cell_type": "code",
      "execution_count": null,
      "metadata": {
        "id": "DvaxjtZJqIhA"
      },
      "outputs": [],
      "source": [
        "for key in image.GetMetaDataKeys():\n",
        "    print(f'\"{key}\":\"{image.GetMetaData(key)}\"')"
      ]
    },
    {
      "cell_type": "markdown",
      "metadata": {
        "id": "gVtMSi7qqIhB"
      },
      "source": [
        "## Accessing Pixels\n",
        "\n",
        "There are the member functions ``GetPixel`` and ``SetPixel`` which provides an ITK-like interface for pixel access."
      ]
    },
    {
      "cell_type": "code",
      "execution_count": null,
      "metadata": {
        "id": "utSg-ClpqIhB"
      },
      "outputs": [],
      "source": [
        "help(image.GetPixel)"
      ]
    },
    {
      "cell_type": "code",
      "execution_count": 4,
      "metadata": {
        "id": "xTI738k2qIhB",
        "colab": {
          "base_uri": "https://localhost:8080/"
        },
        "outputId": "07d12f0a-cbd3-4165-98e1-739b1767ed1c"
      },
      "outputs": [
        {
          "output_type": "stream",
          "name": "stdout",
          "text": [
            "0\n",
            "1\n"
          ]
        }
      ],
      "source": [
        "print(image.GetPixel(0, 0, 0))\n",
        "image.SetPixel(0, 0, 0, 1)\n",
        "print(image.GetPixel(0, 0, 0))"
      ]
    },
    {
      "cell_type": "code",
      "execution_count": 5,
      "metadata": {
        "id": "f57c4igoqIhB",
        "colab": {
          "base_uri": "https://localhost:8080/"
        },
        "outputId": "068b1529-88f2-4e30-a545-3386a68952fd"
      },
      "outputs": [
        {
          "output_type": "stream",
          "name": "stdout",
          "text": [
            "1\n",
            "10\n"
          ]
        }
      ],
      "source": [
        "print(image[0, 0, 0])\n",
        "image[0, 0, 0] = 10\n",
        "print(image[0, 0, 0])"
      ]
    },
    {
      "cell_type": "markdown",
      "metadata": {
        "id": "ZzB-Kgj-qIhB"
      },
      "source": [
        "## Conversion between numpy and SimpleITK"
      ]
    },
    {
      "cell_type": "code",
      "execution_count": 6,
      "metadata": {
        "id": "aJyLxgBtqIhC",
        "colab": {
          "base_uri": "https://localhost:8080/"
        },
        "outputId": "4b98747b-8e55-4504-c38d-ae527fac5295"
      },
      "outputs": [
        {
          "output_type": "stream",
          "name": "stdout",
          "text": [
            "[[[10  0  0 ...  0  0  0]\n",
            "  [ 0  0  0 ...  0  0  0]\n",
            "  [ 0  0  0 ...  0  0  0]\n",
            "  ...\n",
            "  [ 0  0  0 ...  0  0  0]\n",
            "  [ 0  0  0 ...  0  0  0]\n",
            "  [ 0  0  0 ...  0  0  0]]\n",
            "\n",
            " [[ 0  0  0 ...  0  0  0]\n",
            "  [ 0  0  0 ...  0  0  0]\n",
            "  [ 0  0  0 ...  0  0  0]\n",
            "  ...\n",
            "  [ 0  0  0 ...  0  0  0]\n",
            "  [ 0  0  0 ...  0  0  0]\n",
            "  [ 0  0  0 ...  0  0  0]]\n",
            "\n",
            " [[ 0  0  0 ...  0  0  0]\n",
            "  [ 0  0  0 ...  0  0  0]\n",
            "  [ 0  0  0 ...  0  0  0]\n",
            "  ...\n",
            "  [ 0  0  0 ...  0  0  0]\n",
            "  [ 0  0  0 ...  0  0  0]\n",
            "  [ 0  0  0 ...  0  0  0]]\n",
            "\n",
            " ...\n",
            "\n",
            " [[ 0  0  0 ...  0  0  0]\n",
            "  [ 0  0  0 ...  0  0  0]\n",
            "  [ 0  0  0 ...  0  0  0]\n",
            "  ...\n",
            "  [ 0  0  0 ...  0  0  0]\n",
            "  [ 0  0  0 ...  0  0  0]\n",
            "  [ 0  0  0 ...  0  0  0]]\n",
            "\n",
            " [[ 0  0  0 ...  0  0  0]\n",
            "  [ 0  0  0 ...  0  0  0]\n",
            "  [ 0  0  0 ...  0  0  0]\n",
            "  ...\n",
            "  [ 0  0  0 ...  0  0  0]\n",
            "  [ 0  0  0 ...  0  0  0]\n",
            "  [ 0  0  0 ...  0  0  0]]\n",
            "\n",
            " [[ 0  0  0 ...  0  0  0]\n",
            "  [ 0  0  0 ...  0  0  0]\n",
            "  [ 0  0  0 ...  0  0  0]\n",
            "  ...\n",
            "  [ 0  0  0 ...  0  0  0]\n",
            "  [ 0  0  0 ...  0  0  0]\n",
            "  [ 0  0  0 ...  0  0  0]]]\n"
          ]
        }
      ],
      "source": [
        "nda = sitk.GetArrayFromImage(image)\n",
        "print(nda)"
      ]
    },
    {
      "cell_type": "code",
      "execution_count": null,
      "metadata": {
        "id": "Tm2NHsCeqIhC"
      },
      "outputs": [],
      "source": [
        "help(sitk.GetArrayFromImage)"
      ]
    },
    {
      "cell_type": "code",
      "execution_count": null,
      "metadata": {
        "id": "qDDxCVN3qIhC"
      },
      "outputs": [],
      "source": [
        "# Get a view of the image data as a numpy array, useful for display\n",
        "nda = sitk.GetArrayViewFromImage(image)"
      ]
    },
    {
      "cell_type": "code",
      "execution_count": null,
      "metadata": {
        "id": "zS_XvCMRqIhC"
      },
      "outputs": [],
      "source": [
        "nda = sitk.GetArrayFromImage(image_RGB)\n",
        "img = sitk.GetImageFromArray(nda)\n",
        "img.GetSize()"
      ]
    },
    {
      "cell_type": "code",
      "execution_count": null,
      "metadata": {
        "id": "KiCydjKyqIhC"
      },
      "outputs": [],
      "source": [
        "help(sitk.GetImageFromArray)"
      ]
    },
    {
      "cell_type": "code",
      "execution_count": null,
      "metadata": {
        "id": "LQNBACARqIhC"
      },
      "outputs": [],
      "source": [
        "img = sitk.GetImageFromArray(nda, isVector=True)\n",
        "print(img)"
      ]
    },
    {
      "cell_type": "markdown",
      "metadata": {
        "id": "nIkc-rn7qIhD"
      },
      "source": [
        "## The order of index and dimensions need careful attention during conversion\n",
        "\n",
        "ITK's Image class does not have a bracket operator. It has a GetPixel which takes an ITK Index object as an argument, which is ordered as ``(x,y,z)``. This is the convention that SimpleITK's Image class uses for the GetPixel method and slicing operator as well. In numpy, an array is indexed in the **opposite** order ``(z,y,x)``. Also note that the access to channels is different. In SimpleITK you do not access the channel directly, rather the pixel value representing all channels for the specific pixel is returned and you then access the channel for that pixel. In the numpy array you are accessing the channel directly. "
      ]
    },
    {
      "cell_type": "code",
      "execution_count": null,
      "metadata": {
        "id": "eqOkp7KfqIhD"
      },
      "outputs": [],
      "source": [
        "import numpy as np\n",
        "\n",
        "multi_channel_3Dimage = sitk.Image([2, 4, 8], sitk.sitkVectorFloat32, 5)\n",
        "x = multi_channel_3Dimage.GetWidth() - 1\n",
        "y = multi_channel_3Dimage.GetHeight() - 1\n",
        "z = multi_channel_3Dimage.GetDepth() - 1\n",
        "multi_channel_3Dimage[x, y, z] = np.random.random(\n",
        "    multi_channel_3Dimage.GetNumberOfComponentsPerPixel()\n",
        ")\n",
        "\n",
        "nda = sitk.GetArrayFromImage(multi_channel_3Dimage)\n",
        "\n",
        "print(\"Image size: \" + str(multi_channel_3Dimage.GetSize()))\n",
        "print(\"Numpy array size: \" + str(nda.shape))\n",
        "\n",
        "# Notice the index order and channel access are different:\n",
        "print(\"First channel value in image: \" + str(multi_channel_3Dimage[x, y, z][0]))\n",
        "print(\"First channel value in numpy array: \" + str(nda[z, y, x, 0]))"
      ]
    },
    {
      "cell_type": "markdown",
      "metadata": {
        "id": "VepHRP0fqIhD"
      },
      "source": [
        "\n",
        "### Are we still dealing with Image, because I haven't seen one yet...\n",
        "\n",
        "While SimpleITK does not do visualization, it does contain a built in ``Show`` method. This function writes the image out to disk and than launches a program for visualization. By default it is configured to use ImageJ, because it is readily supports all the image types which SimpleITK has and load very quickly. However, it's easily customizable by setting environment variables."
      ]
    },
    {
      "cell_type": "code",
      "execution_count": null,
      "metadata": {
        "simpleitk_error_allowed": "Exception thrown in SimpleITK Show:",
        "id": "H3cUXu41qIhD",
        "outputId": "9d1c5b1c-4b26-4fb0-e177-e770cb164efa",
        "colab": {
          "base_uri": "https://localhost:8080/",
          "height": 304
        }
      },
      "outputs": [
        {
          "output_type": "error",
          "ename": "RuntimeError",
          "evalue": "ignored",
          "traceback": [
            "\u001b[0;31m---------------------------------------------------------------------------\u001b[0m",
            "\u001b[0;31mRuntimeError\u001b[0m                              Traceback (most recent call last)",
            "\u001b[0;32m<ipython-input-16-551e5a6e0bae>\u001b[0m in \u001b[0;36m<module>\u001b[0;34m()\u001b[0m\n\u001b[0;32m----> 1\u001b[0;31m \u001b[0msitk\u001b[0m\u001b[0;34m.\u001b[0m\u001b[0mShow\u001b[0m\u001b[0;34m(\u001b[0m\u001b[0mimage\u001b[0m\u001b[0;34m)\u001b[0m\u001b[0;34m\u001b[0m\u001b[0;34m\u001b[0m\u001b[0m\n\u001b[0m",
            "\u001b[0;32m/usr/local/lib/python3.7/dist-packages/SimpleITK/SimpleITK.py\u001b[0m in \u001b[0;36mShow\u001b[0;34m(*args, **kwargs)\u001b[0m\n\u001b[1;32m   7356\u001b[0m \u001b[0;34m\u001b[0m\u001b[0m\n\u001b[1;32m   7357\u001b[0m     \"\"\"\n\u001b[0;32m-> 7358\u001b[0;31m     \u001b[0;32mreturn\u001b[0m \u001b[0m_SimpleITK\u001b[0m\u001b[0;34m.\u001b[0m\u001b[0mShow\u001b[0m\u001b[0;34m(\u001b[0m\u001b[0;34m*\u001b[0m\u001b[0margs\u001b[0m\u001b[0;34m,\u001b[0m \u001b[0;34m**\u001b[0m\u001b[0mkwargs\u001b[0m\u001b[0;34m)\u001b[0m\u001b[0;34m\u001b[0m\u001b[0;34m\u001b[0m\u001b[0m\n\u001b[0m\u001b[1;32m   7359\u001b[0m \u001b[0;32mclass\u001b[0m \u001b[0mImageFileWriter\u001b[0m\u001b[0;34m(\u001b[0m\u001b[0mProcessObject\u001b[0m\u001b[0;34m)\u001b[0m\u001b[0;34m:\u001b[0m\u001b[0;34m\u001b[0m\u001b[0;34m\u001b[0m\u001b[0m\n\u001b[1;32m   7360\u001b[0m     r\"\"\"\n",
            "\u001b[0;31mRuntimeError\u001b[0m: Exception thrown in SimpleITK Show: /tmp/SimpleITK/Code/IO/src/sitkImageViewer.cxx:620:\nsitk::ERROR: No ImageJ/Fiji application found."
          ]
        }
      ],
      "source": [
        "sitk.Show(image)"
      ]
    },
    {
      "cell_type": "code",
      "execution_count": null,
      "metadata": {
        "id": "NgyBaAHKqIhE"
      },
      "outputs": [],
      "source": [
        "?sitk.Show"
      ]
    },
    {
      "cell_type": "markdown",
      "metadata": {
        "id": "hdU_X-ekqIhE"
      },
      "source": [
        "By converting into a numpy array, matplotlib can be used for visualization for integration into the scientific python environment."
      ]
    },
    {
      "cell_type": "code",
      "execution_count": null,
      "metadata": {
        "id": "GJm84ajpqIhE"
      },
      "outputs": [],
      "source": [
        "%matplotlib inline\n",
        "import matplotlib.pyplot as plt"
      ]
    },
    {
      "cell_type": "code",
      "execution_count": null,
      "metadata": {
        "id": "IKdSjov-qIhF",
        "outputId": "bae1e11c-0c76-42fc-8062-b23d3a657b2d",
        "colab": {
          "base_uri": "https://localhost:8080/",
          "height": 236
        }
      },
      "outputs": [
        {
          "output_type": "execute_result",
          "data": {
            "text/plain": [
              "<matplotlib.image.AxesImage at 0x7f952b527050>"
            ]
          },
          "metadata": {},
          "execution_count": 18
        },
        {
          "output_type": "display_data",
          "data": {
            "image/png": "[encoded data removed]",
            "text/plain": [
              "<Figure size 432x288 with 1 Axes>"
            ]
          },
          "metadata": {
            "needs_background": "light"
          }
        }
      ],
      "source": [
        "z = 0\n",
        "slice = sitk.GetArrayViewFromImage(image)[z, :, :]\n",
        "plt.imshow(slice)"
      ]
    }
  ],
  "metadata": {
    "anaconda-cloud": {},
    "kernelspec": {
      "display_name": "Python 3",
      "language": "python",
      "name": "python3"
    },
    "language_info": {
      "codemirror_mode": {
        "name": "ipython",
        "version": 3
      },
      "file_extension": ".py",
      "mimetype": "text/x-python",
      "name": "python",
      "nbconvert_exporter": "python",
      "pygments_lexer": "ipython3",
      "version": "3.8.5"
    },
    "colab": {
      "name": "Copy of image_information.ipynb",
      "provenance": [],
      "include_colab_link": true
    }
  },
  "nbformat": 4,
  "nbformat_minor": 0
}